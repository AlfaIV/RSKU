{
 "cells": [
  {
   "cell_type": "markdown",
   "metadata": {},
   "source": [
    "# Радиосистемы контроля и управления (РСКУ)"
   ]
  },
  {
   "cell_type": "code",
   "execution_count": 23,
   "metadata": {},
   "outputs": [],
   "source": [
    "from math import atan2, degrees, radians, tan, cos, sin\n",
    "import matplotlib.pyplot as plt"
   ]
  },
  {
   "cell_type": "markdown",
   "metadata": {},
   "source": [
    "## Моделирование метода прямого наведения с постоянным углом упреждения"
   ]
  },
  {
   "cell_type": "code",
   "execution_count": 24,
   "metadata": {},
   "outputs": [],
   "source": [
    "class Object:\n",
    "    def __init__(self, initialX, initialY):\n",
    "        self.x = initialX\n",
    "        self.y = initialY\n",
    "    def getCoordinate(self):\n",
    "        return list(zip(self.x, self.y))\n",
    "    def currentPosition(self):\n",
    "        return [self.x[-1], self.y[-1]]\n",
    "    def currentDirection(self):\n",
    "        dX = self.x[-1] - self.x[-2]\n",
    "        dY = self.y[-1] - self.y[-2]\n",
    "        return atan2(dY, dX)\n",
    "    def moveTo(self, newX, newY):\n",
    "        self.x.append(newX)\n",
    "        self.y.append(newY)"
   ]
  },
  {
   "cell_type": "markdown",
   "metadata": {},
   "source": [
    "Характер маневра цели"
   ]
  },
  {
   "cell_type": "code",
   "execution_count": 25,
   "metadata": {},
   "outputs": [],
   "source": [
    "def linearTargetMovement(Xpos, Ypos, step):\n",
    "    newX = Xpos - step\n",
    "    newY = Ypos\n",
    "    return newX, newY"
   ]
  },
  {
   "cell_type": "code",
   "execution_count": 26,
   "metadata": {},
   "outputs": [],
   "source": [
    "step = int(10)\n",
    "# target = Object(initialX=[step - i for i in range(step)],\n",
    "#                 initialY=[30 for i in range(step)])\n",
    "\n",
    "# target2 = Object(initialX=[9,10],\n",
    "#                 initialY=[10, 10])"
   ]
  },
  {
   "cell_type": "markdown",
   "metadata": {},
   "source": [
    "## Метод прямого наведения с постоянным углом упреждения"
   ]
  },
  {
   "cell_type": "code",
   "execution_count": 27,
   "metadata": {},
   "outputs": [],
   "source": [
    "def directWithConstLeadAngle(vartheta, epsilon ,phi_0):\n",
    "    return vartheta - epsilon - phi_0"
   ]
  },
  {
   "cell_type": "code",
   "execution_count": 28,
   "metadata": {},
   "outputs": [
    {
     "name": "stdout",
     "output_type": "stream",
     "text": [
      "---------------------------\n",
      "(10, 10)\n",
      "epsilon: 41.98721249581666\n",
      "vartheta: 90.0\n",
      "delta: 18.012787504183343\n",
      "vartheta + delta: 71.98721249581666\n",
      "---------------------------\n",
      "---------------------------\n",
      "(9, 10)\n",
      "epsilon: 40.26005852146749\n",
      "vartheta: 71.98721249581666\n",
      "delta: 1.7271539743491766\n",
      "vartheta + delta: 70.2600585214675\n",
      "---------------------------\n",
      "---------------------------\n",
      "(8, 10)\n",
      "epsilon: 37.87363440271228\n",
      "vartheta: 70.2600585214675\n",
      "delta: 2.386424118755219\n",
      "vartheta + delta: 67.87363440271227\n",
      "---------------------------\n",
      "---------------------------\n",
      "(7, 10)\n",
      "epsilon: 34.17598847587974\n",
      "vartheta: 67.87363440271227\n",
      "delta: 3.697645926832533\n",
      "vartheta + delta: 64.17598847587975\n",
      "---------------------------\n",
      "---------------------------\n",
      "(6, 10)\n",
      "epsilon: 26.888557137453784\n",
      "vartheta: 64.17598847587975\n",
      "delta: 7.287431338425966\n",
      "vartheta + delta: 56.88855713745378\n",
      "---------------------------\n",
      "!BAXXX\n"
     ]
    }
   ],
   "source": [
    "controlObject1 = Object(initialX=[0,0], initialY=[0,1])\n",
    "target1 = Object(initialX=[9,10],\n",
    "                initialY=[10, 10])\n",
    "\n",
    "for i in range(10):\n",
    "# for targetPosition in target.getCoordinate():\n",
    "    targetPosition = target1.getCoordinate()[-1]\n",
    "    newTargetX, newTargetY = linearTargetMovement(targetPosition[0], targetPosition[1], 1)\n",
    "    target1.moveTo(newTargetX, newTargetY)\n",
    "    step = 2\n",
    "    \n",
    "    dX = targetPosition[0] - controlObject1.currentPosition()[0]\n",
    "    dY = targetPosition[1] - controlObject1.currentPosition()[1]\n",
    "    \n",
    "    epsilon = atan2(dY, dX)\n",
    "    vartheta  = controlObject1.currentDirection()\n",
    "    \n",
    "    delta = directWithConstLeadAngle(vartheta, epsilon, radians(30))\n",
    "\n",
    "    print(f\"---------------------------\")\n",
    "    print(targetPosition)\n",
    "    print(f\"epsilon: {degrees(epsilon)}\")\n",
    "    print(f\"vartheta: {degrees(vartheta)}\")\n",
    "    print(f\"delta: {degrees(delta)}\")\n",
    "    print(f\"vartheta + delta: {degrees(vartheta - delta)}\")\n",
    "    print(f\"---------------------------\")\n",
    "\n",
    "\n",
    "    # newPositionX = step + controlObject.currentPosition()[0]\n",
    "    # newPositionY = tan(vartheta + delta)*step + controlObject.currentPosition()[1]\n",
    "    \n",
    "    newPositionX = cos(vartheta - delta)*step + controlObject1.currentPosition()[0]\n",
    "    newPositionY = sin(vartheta - delta)*step + controlObject1.currentPosition()[1]\n",
    "\n",
    "    controlObject1.moveTo(newPositionX, newPositionY)\n",
    "    \n",
    "    presition = step*2\n",
    "    if (abs(dX) < presition) and (abs(dY) < presition):\n",
    "        print(\"!BAXXX\")\n",
    "        break\n",
    "\n"
   ]
  },
  {
   "cell_type": "code",
   "execution_count": 29,
   "metadata": {},
   "outputs": [
    {
     "name": "stderr",
     "output_type": "stream",
     "text": [
      "No artists with labels found to put in legend.  Note that artists whose label start with an underscore are ignored when legend() is called with no argument.\n"
     ]
    },
    {
     "data": {
      "image/png": "[encoded data removed]",
      "text/plain": [
       "<Figure size 500x500 with 1 Axes>"
      ]
     },
     "metadata": {},
     "output_type": "display_data"
    }
   ],
   "source": [
    "fig, ax = plt.subplots(1,1)\n",
    "\n",
    "plt.scatter(target1.x, target1.y, linewidth=2.0, marker=\".\")\n",
    "plt.scatter(controlObject1.x, controlObject1.y, linewidth=2.0, marker=\".\")\n",
    "\n",
    "plt.title(\"Метод прямого наведения с постоянным углом упреждения\")\n",
    "plt.xlabel(\"x\")\n",
    "plt.ylabel(\"y\")\n",
    "# plt.xlim(0,1e2)\n",
    "\n",
    "# Добавление подписей номеров точек\n",
    "for i, (x_val, y_val) in enumerate(zip(controlObject1.x, controlObject1.y)):\n",
    "    plt.text(x_val, y_val, str(i+1))\n",
    "\n",
    "fig.set_size_inches(5, 5)\n",
    "plt.legend()\n",
    "plt.show()\n"
   ]
  },
  {
   "cell_type": "code",
   "execution_count": 30,
   "metadata": {},
   "outputs": [
    {
     "data": {
      "text/plain": [
       "70.97439396243132"
      ]
     },
     "execution_count": 30,
     "metadata": {},
     "output_type": "execute_result"
    }
   ],
   "source": [
    "degrees(atan2(29,10))"
   ]
  },
  {
   "cell_type": "markdown",
   "metadata": {},
   "source": [
    "## Метод прямого наведения"
   ]
  },
  {
   "cell_type": "code",
   "execution_count": 31,
   "metadata": {},
   "outputs": [],
   "source": [
    "def direct(vartheta, epsilon):\n",
    "    return vartheta - epsilon"
   ]
  },
  {
   "cell_type": "code",
   "execution_count": 32,
   "metadata": {},
   "outputs": [
    {
     "name": "stdout",
     "output_type": "stream",
     "text": [
      "!BAXXX\n"
     ]
    }
   ],
   "source": [
    "controlObject2 = Object(initialX=[0,0], initialY=[0,1])\n",
    "target2 = Object(initialX=[9,10],\n",
    "                initialY=[10, 10])\n",
    "\n",
    "for i in range(10):\n",
    "# for targetPosition in target2.getCoordinate():\n",
    "\n",
    "    \n",
    "    targetPosition = target2.getCoordinate()[-1]\n",
    "    newTargetX, newTargetY = linearTargetMovement(targetPosition[0], targetPosition[1], 1)\n",
    "    target2.moveTo(newTargetX, newTargetY)\n",
    "    step = 2\n",
    "    \n",
    "    dX = targetPosition[0] - controlObject2.currentPosition()[0]\n",
    "    dY = targetPosition[1] - controlObject2.currentPosition()[1]\n",
    "    \n",
    "    epsilon = atan2(dY, dX)\n",
    "    vartheta  = controlObject2.currentDirection()\n",
    "    \n",
    "    delta = direct(vartheta, epsilon)\n",
    "\n",
    "    # print(f\"---------------------------\")\n",
    "    # print(targetPosition)\n",
    "    # print(f\"epsilon: {degrees(epsilon)}\")\n",
    "    # print(f\"vartheta: {degrees(vartheta)}\")\n",
    "    # print(f\"delta: {degrees(delta)}\")\n",
    "    # print(f\"vartheta + delta: {degrees(vartheta - delta)}\")\n",
    "    # print(f\"---------------------------\")\n",
    "\n",
    "\n",
    "    # newPositionX = step + controlObject2.currentPosition()[0]\n",
    "    # newPositionY = tan(vartheta + delta)*step + controlObject2.currentPosition()[1]\n",
    "    \n",
    "    newPositionX = cos(vartheta - delta)*step + controlObject2.currentPosition()[0]\n",
    "    newPositionY = sin(vartheta - delta)*step + controlObject2.currentPosition()[1]\n",
    "\n",
    "    controlObject2.moveTo(newPositionX, newPositionY)\n",
    "    \n",
    "    presition = step*2\n",
    "    if (abs(dX) < presition) and (abs(dY) < presition):\n",
    "        print(\"!BAXXX\")\n",
    "        break\n",
    "    "
   ]
  },
  {
   "cell_type": "code",
   "execution_count": 33,
   "metadata": {},
   "outputs": [
    {
     "name": "stderr",
     "output_type": "stream",
     "text": [
      "No artists with labels found to put in legend.  Note that artists whose label start with an underscore are ignored when legend() is called with no argument.\n"
     ]
    },
    {
     "data": {
      "image/png": "[encoded data removed]",
      "text/plain": [
       "<Figure size 500x500 with 1 Axes>"
      ]
     },
     "metadata": {},
     "output_type": "display_data"
    }
   ],
   "source": [
    "fig, ax = plt.subplots(1,1)\n",
    "\n",
    "plt.scatter(target2.x, target2.y, linewidth=2.0, marker=\".\")\n",
    "plt.scatter(controlObject2.x, controlObject2.y, linewidth=2.0, marker=\".\")\n",
    "\n",
    "plt.title(\"Метод прямого наведения с постоянным углом упреждения\")\n",
    "plt.xlabel(\"x\")\n",
    "plt.ylabel(\"y\")\n",
    "# plt.xlim(0,1e2)\n",
    "\n",
    "# Добавление подписей номеров точек\n",
    "for i, (x_val, y_val) in enumerate(zip(controlObject2.x, controlObject2.y)):\n",
    "    plt.text(x_val, y_val, str(i+1))\n",
    "\n",
    "fig.set_size_inches(5, 5)\n",
    "plt.legend()\n",
    "plt.show()"
   ]
  },
  {
   "cell_type": "code",
   "execution_count": null,
   "metadata": {},
   "outputs": [],
   "source": []
  },
  {
   "cell_type": "code",
   "execution_count": null,
   "metadata": {},
   "outputs": [],
   "source": []
  }
 ],
 "metadata": {
  "kernelspec": {
   "display_name": "Python 3",
   "language": "python",
   "name": "python3"
  },
  "language_info": {
   "codemirror_mode": {
    "name": "ipython",
    "version": 3
   },
   "file_extension": ".py",
   "mimetype": "text/x-python",
   "name": "python",
   "nbconvert_exporter": "python",
   "pygments_lexer": "ipython3",
   "version": "3.8.10"
  }
 },
 "nbformat": 4,
 "nbformat_minor": 2
}
