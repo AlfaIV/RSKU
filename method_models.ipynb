{
 "cells": [
  {
   "cell_type": "markdown",
   "metadata": {},
   "source": [
    "# Радиосистемы контроля и управления (РСКУ)"
   ]
  },
  {
   "cell_type": "code",
   "execution_count": 93,
   "metadata": {},
   "outputs": [],
   "source": [
    "from math import atan2, degrees, radians, tan, cos, sin, sqrt\n",
    "import matplotlib.pyplot as plt"
   ]
  },
  {
   "cell_type": "markdown",
   "metadata": {},
   "source": [
    "## Моделирование метода прямого наведения с постоянным углом упреждения"
   ]
  },
  {
   "cell_type": "code",
   "execution_count": 94,
   "metadata": {},
   "outputs": [],
   "source": [
    "class Object:\n",
    "    def __init__(self, initialX, initialY):\n",
    "        self.x = initialX\n",
    "        self.y = initialY\n",
    "    def getCoordinate(self):\n",
    "        return list(zip(self.x, self.y))\n",
    "    def currentPosition(self):\n",
    "        return [self.x[-1], self.y[-1]]\n",
    "    def getDirection(self):\n",
    "        dX = self.x[-1] - self.x[-2]\n",
    "        dY = self.y[-1] - self.y[-2]\n",
    "        return atan2(dY, dX)\n",
    "    def getVelocity(self):\n",
    "        dT = 1 # TODO - где взять???\n",
    "        dX = self.x[-1] - self.x[-2]\n",
    "        dY = self.y[-1] - self.y[-2]\n",
    "        return (dX/dT, dY/dT, sqrt((dX/dT)**2 + (dY/dT)**2))\n",
    "    def moveTo(self, newX, newY):\n",
    "        self.x.append(newX)\n",
    "        self.y.append(newY)"
   ]
  },
  {
   "cell_type": "markdown",
   "metadata": {},
   "source": [
    "Характер маневра цели"
   ]
  },
  {
   "cell_type": "code",
   "execution_count": 95,
   "metadata": {},
   "outputs": [],
   "source": [
    "def linearTargetMovement(Xpos, Ypos, step):\n",
    "    newX = Xpos - step\n",
    "    newY = Ypos\n",
    "    return newX, newY"
   ]
  },
  {
   "cell_type": "markdown",
   "metadata": {},
   "source": [
    "## Метод прямого наведения с постоянным углом упреждения"
   ]
  },
  {
   "cell_type": "code",
   "execution_count": 96,
   "metadata": {},
   "outputs": [],
   "source": [
    "def directWithConstLeadAngle(vartheta, epsilon ,phi_0):\n",
    "    return vartheta - epsilon - phi_0"
   ]
  },
  {
   "cell_type": "code",
   "execution_count": 97,
   "metadata": {},
   "outputs": [
    {
     "name": "stdout",
     "output_type": "stream",
     "text": [
      "---------------------------\n",
      "(10, 10)\n",
      "epsilon: 41.98721249581666\n",
      "vartheta: 90.0\n",
      "delta: 18.012787504183343\n",
      "vartheta + delta: 71.98721249581666\n",
      "---------------------------\n",
      "---------------------------\n",
      "(9, 10)\n",
      "epsilon: 40.26005852146749\n",
      "vartheta: 71.98721249581666\n",
      "delta: 1.7271539743491766\n",
      "vartheta + delta: 70.2600585214675\n",
      "---------------------------\n",
      "---------------------------\n",
      "(8, 10)\n",
      "epsilon: 37.87363440271228\n",
      "vartheta: 70.2600585214675\n",
      "delta: 2.386424118755219\n",
      "vartheta + delta: 67.87363440271227\n",
      "---------------------------\n",
      "---------------------------\n",
      "(7, 10)\n",
      "epsilon: 34.17598847587974\n",
      "vartheta: 67.87363440271227\n",
      "delta: 3.697645926832533\n",
      "vartheta + delta: 64.17598847587975\n",
      "---------------------------\n",
      "---------------------------\n",
      "(6, 10)\n",
      "epsilon: 26.888557137453784\n",
      "vartheta: 64.17598847587975\n",
      "delta: 7.287431338425966\n",
      "vartheta + delta: 56.88855713745378\n",
      "---------------------------\n",
      "001 - промах в норме\n"
     ]
    }
   ],
   "source": [
    "controlObject1 = Object(initialX=[0,0], initialY=[0,1])\n",
    "target1 = Object(initialX=[9,10],\n",
    "                initialY=[10, 10])\n",
    "\n",
    "for i in range(10):\n",
    "# for targetPosition in target.getCoordinate():\n",
    "    targetPosition = target1.getCoordinate()[-1]\n",
    "    newTargetX, newTargetY = linearTargetMovement(targetPosition[0], targetPosition[1], 1)\n",
    "    target1.moveTo(newTargetX, newTargetY)\n",
    "    step = 2\n",
    "    \n",
    "    dX = targetPosition[0] - controlObject1.currentPosition()[0]\n",
    "    dY = targetPosition[1] - controlObject1.currentPosition()[1]\n",
    "    \n",
    "    epsilon = atan2(dY, dX)\n",
    "    vartheta  = controlObject1.getDirection()\n",
    "    \n",
    "    delta = directWithConstLeadAngle(vartheta, epsilon, radians(30))\n",
    "\n",
    "    print(f\"---------------------------\")\n",
    "    print(targetPosition)\n",
    "    print(f\"epsilon: {degrees(epsilon)}\")\n",
    "    print(f\"vartheta: {degrees(vartheta)}\")\n",
    "    print(f\"delta: {degrees(delta)}\")\n",
    "    print(f\"vartheta + delta: {degrees(vartheta - delta)}\")\n",
    "    print(f\"---------------------------\")\n",
    "\n",
    "\n",
    "    # newPositionX = step + controlObject.currentPosition()[0]\n",
    "    # newPositionY = tan(vartheta + delta)*step + controlObject.currentPosition()[1]\n",
    "    \n",
    "    newPositionX = cos(vartheta - delta)*step + controlObject1.currentPosition()[0]\n",
    "    newPositionY = sin(vartheta - delta)*step + controlObject1.currentPosition()[1]\n",
    "\n",
    "    controlObject1.moveTo(newPositionX, newPositionY)\n",
    "    \n",
    "    presition = step*2\n",
    "    if (abs(dX) < presition) and (abs(dY) < presition):\n",
    "        print(\"001 - промах в норме\")\n",
    "        break\n",
    "\n"
   ]
  },
  {
   "cell_type": "code",
   "execution_count": 98,
   "metadata": {},
   "outputs": [
    {
     "data": {
      "image/png": "[encoded data removed]",
      "text/plain": [
       "<Figure size 500x500 with 1 Axes>"
      ]
     },
     "metadata": {},
     "output_type": "display_data"
    }
   ],
   "source": [
    "fig, ax = plt.subplots(1,1)\n",
    "\n",
    "plt.scatter(target1.x, target1.y, linewidth=2.0, marker=\".\", label='Цель')\n",
    "plt.scatter(controlObject1.x, controlObject1.y, linewidth=2.0, marker=\".\", label='Объект управления')\n",
    "\n",
    "plt.title(\"Метод прямого наведения с постоянным углом упреждения\")\n",
    "plt.xlabel(\"x\")\n",
    "plt.ylabel(\"y\")\n",
    "# plt.xlim(0,1e2)\n",
    "\n",
    "# Добавление подписей номеров точек\n",
    "for i, (x_val, y_val) in enumerate(zip(controlObject1.x, controlObject1.y)):\n",
    "    plt.text(x_val, y_val, str(i+1))\n",
    "\n",
    "fig.set_size_inches(5, 5)\n",
    "plt.legend()\n",
    "plt.show()\n"
   ]
  },
  {
   "cell_type": "markdown",
   "metadata": {},
   "source": [
    "## Метод прямого наведения"
   ]
  },
  {
   "cell_type": "code",
   "execution_count": 99,
   "metadata": {},
   "outputs": [],
   "source": [
    "def direct(vartheta, epsilon):\n",
    "    return vartheta - epsilon"
   ]
  },
  {
   "cell_type": "code",
   "execution_count": 100,
   "metadata": {},
   "outputs": [
    {
     "name": "stdout",
     "output_type": "stream",
     "text": [
      "002 - промах в норме\n"
     ]
    }
   ],
   "source": [
    "controlObject2 = Object(initialX=[0,0], initialY=[0,1])\n",
    "target2 = Object(initialX=[9,10],\n",
    "                initialY=[10, 10])\n",
    "\n",
    "for i in range(10):\n",
    "# for targetPosition in target2.getCoordinate():\n",
    "\n",
    "    \n",
    "    targetPosition = target2.getCoordinate()[-1]\n",
    "    newTargetX, newTargetY = linearTargetMovement(targetPosition[0], targetPosition[1], 1)\n",
    "    target2.moveTo(newTargetX, newTargetY)\n",
    "    step = 2\n",
    "    \n",
    "    dX = targetPosition[0] - controlObject2.currentPosition()[0]\n",
    "    dY = targetPosition[1] - controlObject2.currentPosition()[1]\n",
    "    \n",
    "    epsilon = atan2(dY, dX)\n",
    "    vartheta  = controlObject2.getDirection()\n",
    "    \n",
    "    delta = direct(vartheta, epsilon)\n",
    "\n",
    "    # print(f\"---------------------------\")\n",
    "    # print(targetPosition)\n",
    "    # print(f\"epsilon: {degrees(epsilon)}\")\n",
    "    # print(f\"vartheta: {degrees(vartheta)}\")\n",
    "    # print(f\"delta: {degrees(delta)}\")\n",
    "    # print(f\"vartheta + delta: {degrees(vartheta - delta)}\")\n",
    "    # print(f\"---------------------------\")\n",
    "\n",
    "\n",
    "    # newPositionX = step + controlObject2.currentPosition()[0]\n",
    "    # newPositionY = tan(vartheta + delta)*step + controlObject2.currentPosition()[1]\n",
    "    \n",
    "    newPositionX = cos(vartheta - delta)*step + controlObject2.currentPosition()[0]\n",
    "    newPositionY = sin(vartheta - delta)*step + controlObject2.currentPosition()[1]\n",
    "\n",
    "    controlObject2.moveTo(newPositionX, newPositionY)\n",
    "    \n",
    "    presition = step*2\n",
    "    if (abs(dX) < presition) and (abs(dY) < presition):\n",
    "        print(\"002 - промах в норме\")\n",
    "        break\n",
    "    "
   ]
  },
  {
   "cell_type": "code",
   "execution_count": 101,
   "metadata": {},
   "outputs": [
    {
     "data": {
      "image/png": "[encoded data removed]",
      "text/plain": [
       "<Figure size 500x500 with 1 Axes>"
      ]
     },
     "metadata": {},
     "output_type": "display_data"
    }
   ],
   "source": [
    "fig, ax = plt.subplots(1,1)\n",
    "\n",
    "plt.scatter(target2.x, target2.y, linewidth=2.0, marker=\".\", label='Цель')\n",
    "plt.scatter(controlObject2.x, controlObject2.y, linewidth=2.0, marker=\".\", label='Объект управления')\n",
    "\n",
    "plt.title(\"Метод прямого наведения\")\n",
    "plt.xlabel(\"x\")\n",
    "plt.ylabel(\"y\")\n",
    "# plt.xlim(0,1e2)\n",
    "\n",
    "# Добавление подписей номеров точек\n",
    "for i, (x_val, y_val) in enumerate(zip(controlObject2.x, controlObject2.y)):\n",
    "    plt.text(x_val, y_val, str(i+1))\n",
    "\n",
    "fig.set_size_inches(5, 5)\n",
    "plt.legend()\n",
    "plt.show()"
   ]
  },
  {
   "cell_type": "markdown",
   "metadata": {},
   "source": [
    "## Метод параллельного сближения"
   ]
  },
  {
   "cell_type": "code",
   "execution_count": 102,
   "metadata": {},
   "outputs": [],
   "source": [
    "def parallelApproach(q_o, V_o, q_t, V_t):\n",
    "    return q_o - V_t/V_o*sin(q_t)"
   ]
  },
  {
   "cell_type": "code",
   "execution_count": 103,
   "metadata": {},
   "outputs": [
    {
     "name": "stdout",
     "output_type": "stream",
     "text": [
      "---------------------------\n",
      "epsilon: 41.98721249581666\n",
      "vartheta: 90.0\n",
      "delta: 86.34164326925152\n",
      "step + delta: 200.93320229541615\n",
      "---------------------------\n",
      "---------------------------\n",
      "epsilon: 51.71158643398318\n",
      "vartheta: 3.658356730748485\n",
      "delta: -25.56745270195858\n",
      "step + delta: 89.02410632420606\n",
      "---------------------------\n",
      "---------------------------\n",
      "epsilon: 61.65963859223415\n",
      "vartheta: 29.22580943270706\n",
      "delta: -7.219584694505166\n",
      "step + delta: 107.37197433165949\n",
      "---------------------------\n",
      "---------------------------\n",
      "epsilon: 76.1819686631727\n",
      "vartheta: 36.445394127212225\n",
      "delta: -11.917778662528004\n",
      "step + delta: 102.67378036363664\n",
      "---------------------------\n",
      "---------------------------\n",
      "epsilon: 97.42091847261825\n",
      "vartheta: 48.36317278974022\n",
      "delta: -20.649808545147927\n",
      "step + delta: 93.94175048101671\n",
      "---------------------------\n",
      "---------------------------\n",
      "epsilon: 125.60016637249682\n",
      "vartheta: 69.01298133488817\n",
      "delta: -33.293612498897886\n",
      "step + delta: 81.29794652726676\n",
      "---------------------------\n",
      "003 - промах в норме\n"
     ]
    }
   ],
   "source": [
    "controlObject3 = Object(initialX=[0,0], initialY=[0,1])\n",
    "target3 = Object(initialX=[9,10],\n",
    "                initialY=[10, 10])\n",
    "\n",
    "for i in range(10):\n",
    "    targetPosition = target3.getCoordinate()[-1]\n",
    "    newTargetX, newTargetY = linearTargetMovement(targetPosition[0], targetPosition[1], 1)\n",
    "    target3.moveTo(newTargetX, newTargetY)\n",
    "    V_t = target3.getVelocity()[2]\n",
    "\n",
    "    step = 2\n",
    "    \n",
    "    dX = targetPosition[0] - controlObject3.currentPosition()[0]\n",
    "    dY = targetPosition[1] - controlObject3.currentPosition()[1]\n",
    "    epsilon = atan2(dY, dX)\n",
    "\n",
    "    vartheta  = controlObject3.getDirection()\n",
    "    q_t = target3.getDirection() + epsilon\n",
    "    q_o = vartheta - epsilon\n",
    "    V_o = controlObject3.getVelocity()[2]\n",
    "    \n",
    "    delta = parallelApproach(q_o, V_o, q_t, V_t)\n",
    "\n",
    "    newPositionX = cos(vartheta - delta)*step + controlObject3.currentPosition()[0]\n",
    "    newPositionY = sin(vartheta - delta)*step + controlObject3.currentPosition()[1]\n",
    "\n",
    "    print(f\"---------------------------\")\n",
    "    print(f\"epsilon: {degrees(epsilon)}\")\n",
    "    print(f\"vartheta: {degrees(vartheta)}\")\n",
    "    print(f\"delta: {degrees(delta)}\")\n",
    "    print(f\"step + delta: {degrees(step + delta)}\")\n",
    "    print(f\"---------------------------\")\n",
    "\n",
    "    controlObject3.moveTo(newPositionX, newPositionY)\n",
    "    \n",
    "    presition = step*2\n",
    "    if (abs(dX) < presition) and (abs(dY) < presition):\n",
    "        print(\"003 - промах в норме\")\n",
    "        break"
   ]
  },
  {
   "cell_type": "code",
   "execution_count": 104,
   "metadata": {},
   "outputs": [
    {
     "data": {
      "image/png": "[encoded data removed]",
      "text/plain": [
       "<Figure size 500x500 with 1 Axes>"
      ]
     },
     "metadata": {},
     "output_type": "display_data"
    }
   ],
   "source": [
    "fig, ax = plt.subplots(1,1)\n",
    "\n",
    "plt.scatter(target3.x, target3.y, linewidth=2.0, marker=\".\", label='Цель')\n",
    "plt.scatter(controlObject3.x, controlObject3.y, linewidth=2.0, marker=\".\", label='Объект управления')\n",
    "\n",
    "plt.title(\"Метод параллельного сближения\")\n",
    "plt.xlabel(\"x\")\n",
    "plt.ylabel(\"y\")\n",
    "# plt.xlim(0,1e2)\n",
    "\n",
    "# Добавление подписей номеров точек\n",
    "for i, (x_val, y_val) in enumerate(zip(controlObject3.x, controlObject3.y)):\n",
    "    plt.text(x_val, y_val, str(i+1))\n",
    "\n",
    "fig.set_size_inches(5, 5)\n",
    "plt.legend()\n",
    "plt.show()"
   ]
  },
  {
   "cell_type": "code",
   "execution_count": null,
   "metadata": {},
   "outputs": [],
   "source": []
  },
  {
   "cell_type": "code",
   "execution_count": null,
   "metadata": {},
   "outputs": [],
   "source": []
  }
 ],
 "metadata": {
  "kernelspec": {
   "display_name": "Python 3",
   "language": "python",
   "name": "python3"
  },
  "language_info": {
   "codemirror_mode": {
    "name": "ipython",
    "version": 3
   },
   "file_extension": ".py",
   "mimetype": "text/x-python",
   "name": "python",
   "nbconvert_exporter": "python",
   "pygments_lexer": "ipython3",
   "version": "3.8.10"
  }
 },
 "nbformat": 4,
 "nbformat_minor": 2
}
