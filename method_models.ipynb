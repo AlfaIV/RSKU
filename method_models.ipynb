{
 "cells": [
  {
   "cell_type": "markdown",
   "metadata": {},
   "source": [
    "# Радиосистемы контроля и управления (РСКУ)"
   ]
  },
  {
   "cell_type": "code",
   "execution_count": 198,
   "metadata": {},
   "outputs": [],
   "source": [
    "from math import atan2, degrees, radians, tan\n",
    "import matplotlib.pyplot as plt"
   ]
  },
  {
   "cell_type": "markdown",
   "metadata": {},
   "source": [
    "## Моделирование метода прямого наведения с постоянным углом упреждения"
   ]
  },
  {
   "cell_type": "code",
   "execution_count": 199,
   "metadata": {},
   "outputs": [],
   "source": [
    "class Object:\n",
    "    def __init__(self, initialX, initialY):\n",
    "        self.x = initialX\n",
    "        self.y = initialY\n",
    "    def getCoordinate(self):\n",
    "        return list(zip(self.x, self.y))\n",
    "    def currentPosition(self):\n",
    "        return [self.x[-1], self.y[-1]]\n",
    "    def currentDirection(self):\n",
    "        dX = self.x[-1] - self.x[-2]\n",
    "        dY = self.y[-1] - self.y[-2]\n",
    "        return atan2(dY, dX)\n",
    "    def moveTo(self, newX, newY):\n",
    "        self.x.append(newX)\n",
    "        self.y.append(newY)"
   ]
  },
  {
   "cell_type": "code",
   "execution_count": 200,
   "metadata": {},
   "outputs": [],
   "source": [
    "step = int(10)\n",
    "target = Object(initialX=[step - i for i in range(step)],\n",
    "                initialY=[30 for i in range(step)])\n",
    "\n",
    "# target = Object(initialX=[10, 9],\n",
    "#                 initialY=[30, 30])"
   ]
  },
  {
   "cell_type": "code",
   "execution_count": 201,
   "metadata": {},
   "outputs": [],
   "source": [
    "def directWithConstLeadAngle(vartheta, epsilon ,phi_0):\n",
    "    return vartheta - epsilon - phi_0\n",
    "\n",
    "def linearTargetMovement(Xpos, Ypos, step):\n",
    "    newX = Xpos - step\n",
    "    newY = Ypos\n",
    "    return newX, newY\n"
   ]
  },
  {
   "cell_type": "code",
   "execution_count": 202,
   "metadata": {},
   "outputs": [
    {
     "name": "stdout",
     "output_type": "stream",
     "text": [
      "(10, 30)\n",
      "---------------------------\n",
      "epsilon: 70.97439396243132\n",
      "vartheta: 90.0\n",
      "delta: -10.97439396243132\n",
      "vartheta + delta: 79.02560603756869\n",
      "---------------------------\n",
      "(9, 30)\n",
      "---------------------------\n",
      "epsilon: 71.4520458283839\n",
      "vartheta: 79.02560603756869\n",
      "delta: -22.426439790815216\n",
      "vartheta + delta: 56.59916624675347\n",
      "---------------------------\n",
      "(8, 30)\n",
      "---------------------------\n",
      "epsilon: 74.9578615830309\n",
      "vartheta: 56.59916624675347\n",
      "delta: -48.358695336277435\n",
      "vartheta + delta: 8.240470910476033\n",
      "---------------------------\n",
      "(7, 30)\n",
      "---------------------------\n",
      "epsilon: 79.77781766155451\n",
      "vartheta: 8.240470910476047\n",
      "delta: -101.53734675107846\n",
      "vartheta + delta: -93.29687584060241\n",
      "---------------------------\n",
      "(6, 30)\n",
      "---------------------------\n",
      "epsilon: 67.4736873984354\n",
      "vartheta: 86.7031241593976\n",
      "delta: -10.770563239037791\n",
      "vartheta + delta: 75.9325609203598\n",
      "---------------------------\n",
      "(5, 30)\n",
      "---------------------------\n",
      "epsilon: 90.0\n",
      "vartheta: 75.9325609203598\n",
      "delta: -44.06743907964019\n",
      "vartheta + delta: 31.865121840719624\n",
      "---------------------------\n",
      "!BAXXX\n"
     ]
    }
   ],
   "source": [
    "controlObject = Object(initialX=[0,0], initialY=[0,1])\n",
    "\n",
    "# for i in range(10):\n",
    "for targetPosition in target.getCoordinate():\n",
    "    # targetPosition = target.getCoordinate()[-1]\n",
    "    print(targetPosition)\n",
    "    step = 1\n",
    "    \n",
    "    dX = targetPosition[0] - controlObject.currentPosition()[0]\n",
    "    dY = targetPosition[1] - controlObject.currentPosition()[1]\n",
    "    \n",
    "    epsilon = atan2(dY, dX)\n",
    "    vartheta  = controlObject.currentDirection()\n",
    "    \n",
    "    delta = directWithConstLeadAngle(vartheta, epsilon, radians(30))\n",
    "\n",
    "    print(f\"---------------------------\")\n",
    "    print(f\"epsilon: {degrees(epsilon)}\")\n",
    "    print(f\"vartheta: {degrees(vartheta)}\")\n",
    "    print(f\"delta: {degrees(delta)}\")\n",
    "    print(f\"vartheta + delta: {degrees(vartheta + delta)}\")\n",
    "    print(f\"---------------------------\")\n",
    "\n",
    "\n",
    "    newPositionX = step + controlObject.currentPosition()[0]\n",
    "    newPositionY = tan(vartheta + delta)*step + controlObject.currentPosition()[1]\n",
    "\n",
    "    controlObject.moveTo(newPositionX, newPositionY)\n",
    "    \n",
    "    presition = 1\n",
    "    if (abs(dX) < presition) and (abs(dY) < presition):\n",
    "        print(\"!BAXXX\")\n",
    "        break\n",
    "    \n",
    "\n",
    "    newTargetX, newTargetY = linearTargetMovement(targetPosition[0], targetPosition[1], 1)\n",
    "    target.moveTo(newTargetX, newTargetY)\n",
    "\n"
   ]
  },
  {
   "cell_type": "code",
   "execution_count": 203,
   "metadata": {},
   "outputs": [
    {
     "name": "stderr",
     "output_type": "stream",
     "text": [
      "No artists with labels found to put in legend.  Note that artists whose label start with an underscore are ignored when legend() is called with no argument.\n"
     ]
    },
    {
     "data": {
      "image/png": "[encoded data removed]",
      "text/plain": [
       "<Figure size 500x500 with 1 Axes>"
      ]
     },
     "metadata": {},
     "output_type": "display_data"
    }
   ],
   "source": [
    "fig, ax = plt.subplots(1,1)\n",
    "\n",
    "plt.scatter(target.x, target.y, linewidth=2.0, marker=\".\")\n",
    "plt.scatter(controlObject.x, controlObject.y, linewidth=2.0, marker=\".\")\n",
    "\n",
    "plt.title(\"Метод прямого наведения с постоянным углом упреждения\")\n",
    "plt.xlabel(\"x\")\n",
    "plt.ylabel(\"y\")\n",
    "# plt.xlim(0,1e2)\n",
    "\n",
    "\n",
    "fig.set_size_inches(5, 5)\n",
    "plt.legend()\n",
    "plt.show()\n"
   ]
  },
  {
   "cell_type": "code",
   "execution_count": 204,
   "metadata": {},
   "outputs": [
    {
     "data": {
      "text/plain": [
       "70.97439396243132"
      ]
     },
     "execution_count": 204,
     "metadata": {},
     "output_type": "execute_result"
    }
   ],
   "source": [
    "degrees(atan2(29,10))"
   ]
  },
  {
   "cell_type": "code",
   "execution_count": null,
   "metadata": {},
   "outputs": [],
   "source": []
  },
  {
   "cell_type": "code",
   "execution_count": null,
   "metadata": {},
   "outputs": [],
   "source": []
  }
 ],
 "metadata": {
  "kernelspec": {
   "display_name": "Python 3",
   "language": "python",
   "name": "python3"
  },
  "language_info": {
   "codemirror_mode": {
    "name": "ipython",
    "version": 3
   },
   "file_extension": ".py",
   "mimetype": "text/x-python",
   "name": "python",
   "nbconvert_exporter": "python",
   "pygments_lexer": "ipython3",
   "version": "3.8.10"
  }
 },
 "nbformat": 4,
 "nbformat_minor": 2
}
